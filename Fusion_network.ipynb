{
  "nbformat": 4,
  "nbformat_minor": 0,
  "metadata": {
    "colab": {
      "provenance": [],
      "authorship_tag": "ABX9TyMWGn/8Q9t59K5q2RnJaW+G",
      "include_colab_link": true
    },
    "kernelspec": {
      "name": "python3",
      "display_name": "Python 3"
    },
    "language_info": {
      "name": "python"
    }
  },
  "cells": [
    {
      "cell_type": "markdown",
      "metadata": {
        "id": "view-in-github",
        "colab_type": "text"
      },
      "source": [
        "<a href=\"https://colab.research.google.com/github/pongsapaks/Detection-depression/blob/main/Fusion_network.ipynb\" target=\"_parent\"><img src=\"https://colab.research.google.com/assets/colab-badge.svg\" alt=\"Open In Colab\"/></a>"
      ]
    },
    {
      "cell_type": "code",
      "source": [
        "from google.colab import drive\n",
        "drive.mount('/content/drive')"
      ],
      "metadata": {
        "id": "JdyyNiFWX6iN",
        "colab": {
          "base_uri": "https://localhost:8080/"
        },
        "outputId": "cfa4f5f7-bb21-4f86-bcd6-a51295dc03ed"
      },
      "execution_count": 1,
      "outputs": [
        {
          "output_type": "stream",
          "name": "stdout",
          "text": [
            "Mounted at /content/drive\n"
          ]
        }
      ]
    },
    {
      "cell_type": "code",
      "source": [
        "!nvidia-smi -L"
      ],
      "metadata": {
        "id": "QEJOgQOlaic7",
        "colab": {
          "base_uri": "https://localhost:8080/"
        },
        "outputId": "17462412-a6cf-4d24-fb84-4cdc8fdc67bd"
      },
      "execution_count": 2,
      "outputs": [
        {
          "output_type": "stream",
          "name": "stdout",
          "text": [
            "/bin/bash: line 1: nvidia-smi: command not found\n"
          ]
        }
      ]
    },
    {
      "cell_type": "code",
      "source": [
        "import numpy as np\n",
        "import pandas as pd\n",
        "import tensorflow as tf\n",
        "from tensorflow.keras.models import Sequential\n",
        "from tensorflow.keras.layers import Dense"
      ],
      "metadata": {
        "id": "CGcyjw8iYZl2"
      },
      "execution_count": 3,
      "outputs": []
    },
    {
      "cell_type": "code",
      "source": [
        "print( f\"TensorFlow {tf.__version__}\" )\n",
        "print( f\"tf.keras.backend.image_data_format() = {tf.keras.backend.image_data_format()}\" )\n",
        "\n",
        "# Count the number of GPUs as detected by tensorflow\n",
        "gpus = tf.config.list_physical_devices('GPU')\n",
        "print( f\"TensorFlow detected { len(gpus) } GPU(s):\" )\n",
        "for i, gpu in enumerate(gpus):\n",
        "  print( f\".... GPU No. {i}: Name = {gpu.name} , Type = {gpu.device_type}\" )"
      ],
      "metadata": {
        "colab": {
          "base_uri": "https://localhost:8080/"
        },
        "id": "EjKXjf1uaslA",
        "outputId": "e8197e80-865b-48d8-f052-84bd819a4126"
      },
      "execution_count": null,
      "outputs": [
        {
          "output_type": "stream",
          "name": "stdout",
          "text": [
            "TensorFlow 2.15.0\n",
            "tf.keras.backend.image_data_format() = channels_last\n",
            "TensorFlow detected 0 GPU(s):\n"
          ]
        }
      ]
    },
    {
      "cell_type": "code",
      "source": [
        "text_prediction = pd.read_csv(\"/content/drive/MyDrive/Final_DLP/Text_pred.csv\")\n",
        "\n",
        "audio_prediction = pd.read_csv(\"/content/drive/MyDrive/Final_DLP/Audio_pred.csv\")\n",
        "\n",
        "Y_test = pd.read_csv(\"/content/drive/MyDrive/Final_DLP/y_true.csv\")"
      ],
      "metadata": {
        "id": "Rs1UkiPiYqpC"
      },
      "execution_count": 4,
      "outputs": []
    },
    {
      "cell_type": "code",
      "source": [
        "# Assuming you have predictions from both text and audio models\n",
        "text_model_predictions = text_prediction.values  #convert to numpy array\n",
        "audio_model_predictions = audio_prediction.values  #convert to numpy array\n",
        "\n",
        "# Concatenate the predictions as features\n",
        "combined_features = np.concatenate((text_model_predictions, audio_model_predictions), axis=1)\n",
        "combined_features"
      ],
      "metadata": {
        "colab": {
          "base_uri": "https://localhost:8080/"
        },
        "id": "LIdiG8-yclRh",
        "outputId": "1da446b3-9a91-4a56-9745-3f5543db89fb"
      },
      "execution_count": 6,
      "outputs": [
        {
          "output_type": "execute_result",
          "data": {
            "text/plain": [
              "array([[0.64752   , 0.35248   , 0.55555555],\n",
              "       [0.54360217, 0.45639777, 0.55555555],\n",
              "       [0.73083013, 0.26916987, 0.55555555],\n",
              "       [0.8544312 , 0.14556885, 0.55555555],\n",
              "       [0.8293913 , 0.17060868, 0.55555555],\n",
              "       [0.9491926 , 0.05080745, 0.55555555],\n",
              "       [0.91480875, 0.08519124, 0.55555555],\n",
              "       [0.7581583 , 0.24184172, 0.55555555],\n",
              "       [0.8457811 , 0.15421896, 0.55555555],\n",
              "       [0.86520404, 0.13479602, 0.55555555],\n",
              "       [0.4977059 , 0.50229406, 0.55555555],\n",
              "       [0.98223245, 0.01776756, 0.55555555],\n",
              "       [0.37484518, 0.6251548 , 0.55555555],\n",
              "       [0.8723323 , 0.1276677 , 0.55555555],\n",
              "       [0.97781265, 0.0221873 , 0.55555555],\n",
              "       [0.6770012 , 0.32299885, 0.55555555],\n",
              "       [0.8795489 , 0.12045111, 0.55555555],\n",
              "       [0.4866108 , 0.51338917, 0.55555555],\n",
              "       [0.94370085, 0.05629917, 0.55555555],\n",
              "       [0.93224853, 0.0677515 , 0.55555555],\n",
              "       [0.5543719 , 0.44562814, 0.55555555],\n",
              "       [0.29319954, 0.70680046, 0.55555555],\n",
              "       [0.75173914, 0.24826087, 0.55555555],\n",
              "       [0.49731934, 0.50268066, 0.55555555],\n",
              "       [0.891104  , 0.10889599, 0.55555555],\n",
              "       [0.53051597, 0.46948403, 0.55555555],\n",
              "       [0.89374095, 0.10625909, 0.55555555],\n",
              "       [0.31058577, 0.68941426, 0.55555555],\n",
              "       [0.94400924, 0.05599073, 0.55555555],\n",
              "       [0.73526245, 0.2647375 , 0.55555555],\n",
              "       [0.24455902, 0.755441  , 0.55555555],\n",
              "       [0.6050507 , 0.39494926, 0.55555555],\n",
              "       [0.798643  , 0.20135702, 0.55555555],\n",
              "       [0.90345806, 0.09654197, 0.55555555],\n",
              "       [0.5068427 , 0.4931573 , 0.55555555],\n",
              "       [0.69247437, 0.3075257 , 0.55555555],\n",
              "       [0.8343816 , 0.16561842, 0.55555555],\n",
              "       [0.89917535, 0.10082465, 0.55555555],\n",
              "       [0.10740226, 0.8925977 , 0.55555555],\n",
              "       [0.77816373, 0.2218363 , 0.55555555],\n",
              "       [0.896377  , 0.10362294, 0.55555555],\n",
              "       [0.70135295, 0.29864702, 0.55555555],\n",
              "       [0.977478  , 0.02252194, 0.55555555],\n",
              "       [0.86135596, 0.138644  , 0.55555555],\n",
              "       [0.5618163 , 0.43818375, 0.55555555],\n",
              "       [0.77247036, 0.22752963, 0.55555555]])"
            ]
          },
          "metadata": {},
          "execution_count": 6
        }
      ]
    },
    {
      "cell_type": "code",
      "execution_count": 8,
      "metadata": {
        "id": "T8g8ej4DNpum",
        "colab": {
          "base_uri": "https://localhost:8080/"
        },
        "outputId": "d83b930e-639a-4959-ad26-db1bdb1fd996"
      },
      "outputs": [
        {
          "output_type": "stream",
          "name": "stdout",
          "text": [
            "Epoch 1/100\n",
            "2/2 [==============================] - 1s 12ms/step - loss: 0.7404 - accuracy: 0.5217\n",
            "Epoch 2/100\n",
            "2/2 [==============================] - 0s 7ms/step - loss: 0.7395 - accuracy: 0.5217\n",
            "Epoch 3/100\n",
            "2/2 [==============================] - 0s 7ms/step - loss: 0.7386 - accuracy: 0.5217\n",
            "Epoch 4/100\n",
            "2/2 [==============================] - 0s 7ms/step - loss: 0.7378 - accuracy: 0.5217\n",
            "Epoch 5/100\n",
            "2/2 [==============================] - 0s 6ms/step - loss: 0.7369 - accuracy: 0.5435\n",
            "Epoch 6/100\n",
            "2/2 [==============================] - 0s 7ms/step - loss: 0.7361 - accuracy: 0.5435\n",
            "Epoch 7/100\n",
            "2/2 [==============================] - 0s 6ms/step - loss: 0.7352 - accuracy: 0.5435\n",
            "Epoch 8/100\n",
            "2/2 [==============================] - 0s 7ms/step - loss: 0.7345 - accuracy: 0.5435\n",
            "Epoch 9/100\n",
            "2/2 [==============================] - 0s 6ms/step - loss: 0.7336 - accuracy: 0.5435\n",
            "Epoch 10/100\n",
            "2/2 [==============================] - 0s 7ms/step - loss: 0.7327 - accuracy: 0.5435\n",
            "Epoch 11/100\n",
            "2/2 [==============================] - 0s 6ms/step - loss: 0.7320 - accuracy: 0.5435\n",
            "Epoch 12/100\n",
            "2/2 [==============================] - 0s 7ms/step - loss: 0.7314 - accuracy: 0.5435\n",
            "Epoch 13/100\n",
            "2/2 [==============================] - 0s 7ms/step - loss: 0.7305 - accuracy: 0.5435\n",
            "Epoch 14/100\n",
            "2/2 [==============================] - 0s 7ms/step - loss: 0.7297 - accuracy: 0.5435\n",
            "Epoch 15/100\n",
            "2/2 [==============================] - 0s 11ms/step - loss: 0.7290 - accuracy: 0.5435\n",
            "Epoch 16/100\n",
            "2/2 [==============================] - 0s 11ms/step - loss: 0.7283 - accuracy: 0.5435\n",
            "Epoch 17/100\n",
            "2/2 [==============================] - 0s 8ms/step - loss: 0.7275 - accuracy: 0.5435\n",
            "Epoch 18/100\n",
            "2/2 [==============================] - 0s 7ms/step - loss: 0.7269 - accuracy: 0.5652\n",
            "Epoch 19/100\n",
            "2/2 [==============================] - 0s 7ms/step - loss: 0.7261 - accuracy: 0.5652\n",
            "Epoch 20/100\n",
            "2/2 [==============================] - 0s 7ms/step - loss: 0.7254 - accuracy: 0.5652\n",
            "Epoch 21/100\n",
            "2/2 [==============================] - 0s 7ms/step - loss: 0.7247 - accuracy: 0.5652\n",
            "Epoch 22/100\n",
            "2/2 [==============================] - 0s 12ms/step - loss: 0.7239 - accuracy: 0.5652\n",
            "Epoch 23/100\n",
            "2/2 [==============================] - 0s 8ms/step - loss: 0.7232 - accuracy: 0.5652\n",
            "Epoch 24/100\n",
            "2/2 [==============================] - 0s 7ms/step - loss: 0.7226 - accuracy: 0.5652\n",
            "Epoch 25/100\n",
            "2/2 [==============================] - 0s 7ms/step - loss: 0.7219 - accuracy: 0.5652\n",
            "Epoch 26/100\n",
            "2/2 [==============================] - 0s 7ms/step - loss: 0.7212 - accuracy: 0.5652\n",
            "Epoch 27/100\n",
            "2/2 [==============================] - 0s 7ms/step - loss: 0.7205 - accuracy: 0.5652\n",
            "Epoch 28/100\n",
            "2/2 [==============================] - 0s 7ms/step - loss: 0.7199 - accuracy: 0.5652\n",
            "Epoch 29/100\n",
            "2/2 [==============================] - 0s 7ms/step - loss: 0.7191 - accuracy: 0.5652\n",
            "Epoch 30/100\n",
            "2/2 [==============================] - 0s 8ms/step - loss: 0.7185 - accuracy: 0.5652\n",
            "Epoch 31/100\n",
            "2/2 [==============================] - 0s 7ms/step - loss: 0.7178 - accuracy: 0.5652\n",
            "Epoch 32/100\n",
            "2/2 [==============================] - 0s 7ms/step - loss: 0.7173 - accuracy: 0.5652\n",
            "Epoch 33/100\n",
            "2/2 [==============================] - 0s 7ms/step - loss: 0.7165 - accuracy: 0.5652\n",
            "Epoch 34/100\n",
            "2/2 [==============================] - 0s 8ms/step - loss: 0.7159 - accuracy: 0.5652\n",
            "Epoch 35/100\n",
            "2/2 [==============================] - 0s 7ms/step - loss: 0.7154 - accuracy: 0.5652\n",
            "Epoch 36/100\n",
            "2/2 [==============================] - 0s 7ms/step - loss: 0.7147 - accuracy: 0.5652\n",
            "Epoch 37/100\n",
            "2/2 [==============================] - 0s 7ms/step - loss: 0.7141 - accuracy: 0.5652\n",
            "Epoch 38/100\n",
            "2/2 [==============================] - 0s 7ms/step - loss: 0.7137 - accuracy: 0.5870\n",
            "Epoch 39/100\n",
            "2/2 [==============================] - 0s 7ms/step - loss: 0.7131 - accuracy: 0.5870\n",
            "Epoch 40/100\n",
            "2/2 [==============================] - 0s 7ms/step - loss: 0.7125 - accuracy: 0.5870\n",
            "Epoch 41/100\n",
            "2/2 [==============================] - 0s 10ms/step - loss: 0.7119 - accuracy: 0.5870\n",
            "Epoch 42/100\n",
            "2/2 [==============================] - 0s 8ms/step - loss: 0.7115 - accuracy: 0.5870\n",
            "Epoch 43/100\n",
            "2/2 [==============================] - 0s 8ms/step - loss: 0.7110 - accuracy: 0.5870\n",
            "Epoch 44/100\n",
            "2/2 [==============================] - 0s 7ms/step - loss: 0.7103 - accuracy: 0.5870\n",
            "Epoch 45/100\n",
            "2/2 [==============================] - 0s 7ms/step - loss: 0.7099 - accuracy: 0.5870\n",
            "Epoch 46/100\n",
            "2/2 [==============================] - 0s 7ms/step - loss: 0.7095 - accuracy: 0.5870\n",
            "Epoch 47/100\n",
            "2/2 [==============================] - 0s 7ms/step - loss: 0.7089 - accuracy: 0.5870\n",
            "Epoch 48/100\n",
            "2/2 [==============================] - 0s 7ms/step - loss: 0.7084 - accuracy: 0.5870\n",
            "Epoch 49/100\n",
            "2/2 [==============================] - 0s 8ms/step - loss: 0.7079 - accuracy: 0.5870\n",
            "Epoch 50/100\n",
            "2/2 [==============================] - 0s 8ms/step - loss: 0.7073 - accuracy: 0.5870\n",
            "Epoch 51/100\n",
            "2/2 [==============================] - 0s 8ms/step - loss: 0.7068 - accuracy: 0.5870\n",
            "Epoch 52/100\n",
            "2/2 [==============================] - 0s 9ms/step - loss: 0.7063 - accuracy: 0.5870\n",
            "Epoch 53/100\n",
            "2/2 [==============================] - 0s 9ms/step - loss: 0.7059 - accuracy: 0.5870\n",
            "Epoch 54/100\n",
            "2/2 [==============================] - 0s 8ms/step - loss: 0.7054 - accuracy: 0.5870\n",
            "Epoch 55/100\n",
            "2/2 [==============================] - 0s 10ms/step - loss: 0.7049 - accuracy: 0.5870\n",
            "Epoch 56/100\n",
            "2/2 [==============================] - 0s 8ms/step - loss: 0.7044 - accuracy: 0.5870\n",
            "Epoch 57/100\n",
            "2/2 [==============================] - 0s 8ms/step - loss: 0.7039 - accuracy: 0.5870\n",
            "Epoch 58/100\n",
            "2/2 [==============================] - 0s 9ms/step - loss: 0.7034 - accuracy: 0.5870\n",
            "Epoch 59/100\n",
            "2/2 [==============================] - 0s 7ms/step - loss: 0.7031 - accuracy: 0.5870\n",
            "Epoch 60/100\n",
            "2/2 [==============================] - 0s 8ms/step - loss: 0.7025 - accuracy: 0.5870\n",
            "Epoch 61/100\n",
            "2/2 [==============================] - 0s 7ms/step - loss: 0.7022 - accuracy: 0.6087\n",
            "Epoch 62/100\n",
            "2/2 [==============================] - 0s 7ms/step - loss: 0.7017 - accuracy: 0.6087\n",
            "Epoch 63/100\n",
            "2/2 [==============================] - 0s 7ms/step - loss: 0.7012 - accuracy: 0.6087\n",
            "Epoch 64/100\n",
            "2/2 [==============================] - 0s 6ms/step - loss: 0.7009 - accuracy: 0.6087\n",
            "Epoch 65/100\n",
            "2/2 [==============================] - 0s 7ms/step - loss: 0.7005 - accuracy: 0.6087\n",
            "Epoch 66/100\n",
            "2/2 [==============================] - 0s 7ms/step - loss: 0.6999 - accuracy: 0.6304\n",
            "Epoch 67/100\n",
            "2/2 [==============================] - 0s 7ms/step - loss: 0.6996 - accuracy: 0.6304\n",
            "Epoch 68/100\n",
            "2/2 [==============================] - 0s 9ms/step - loss: 0.6991 - accuracy: 0.6304\n",
            "Epoch 69/100\n",
            "2/2 [==============================] - 0s 8ms/step - loss: 0.6987 - accuracy: 0.6304\n",
            "Epoch 70/100\n",
            "2/2 [==============================] - 0s 7ms/step - loss: 0.6982 - accuracy: 0.6304\n",
            "Epoch 71/100\n",
            "2/2 [==============================] - 0s 8ms/step - loss: 0.6977 - accuracy: 0.6087\n",
            "Epoch 72/100\n",
            "2/2 [==============================] - 0s 8ms/step - loss: 0.6973 - accuracy: 0.6087\n",
            "Epoch 73/100\n",
            "2/2 [==============================] - 0s 8ms/step - loss: 0.6969 - accuracy: 0.6087\n",
            "Epoch 74/100\n",
            "2/2 [==============================] - 0s 7ms/step - loss: 0.6965 - accuracy: 0.6087\n",
            "Epoch 75/100\n",
            "2/2 [==============================] - 0s 8ms/step - loss: 0.6961 - accuracy: 0.6087\n",
            "Epoch 76/100\n",
            "2/2 [==============================] - 0s 8ms/step - loss: 0.6956 - accuracy: 0.6087\n",
            "Epoch 77/100\n",
            "2/2 [==============================] - 0s 9ms/step - loss: 0.6952 - accuracy: 0.6087\n",
            "Epoch 78/100\n",
            "2/2 [==============================] - 0s 12ms/step - loss: 0.6948 - accuracy: 0.6304\n",
            "Epoch 79/100\n",
            "2/2 [==============================] - 0s 7ms/step - loss: 0.6944 - accuracy: 0.6304\n",
            "Epoch 80/100\n",
            "2/2 [==============================] - 0s 9ms/step - loss: 0.6940 - accuracy: 0.6304\n",
            "Epoch 81/100\n",
            "2/2 [==============================] - 0s 10ms/step - loss: 0.6937 - accuracy: 0.6304\n",
            "Epoch 82/100\n",
            "2/2 [==============================] - 0s 8ms/step - loss: 0.6932 - accuracy: 0.6304\n",
            "Epoch 83/100\n",
            "2/2 [==============================] - 0s 7ms/step - loss: 0.6928 - accuracy: 0.6304\n",
            "Epoch 84/100\n",
            "2/2 [==============================] - 0s 7ms/step - loss: 0.6925 - accuracy: 0.6304\n",
            "Epoch 85/100\n",
            "2/2 [==============================] - 0s 8ms/step - loss: 0.6922 - accuracy: 0.6304\n",
            "Epoch 86/100\n",
            "2/2 [==============================] - 0s 7ms/step - loss: 0.6918 - accuracy: 0.6304\n",
            "Epoch 87/100\n",
            "2/2 [==============================] - 0s 7ms/step - loss: 0.6914 - accuracy: 0.6304\n",
            "Epoch 88/100\n",
            "2/2 [==============================] - 0s 12ms/step - loss: 0.6911 - accuracy: 0.6304\n",
            "Epoch 89/100\n",
            "2/2 [==============================] - 0s 6ms/step - loss: 0.6908 - accuracy: 0.6304\n",
            "Epoch 90/100\n",
            "2/2 [==============================] - 0s 7ms/step - loss: 0.6904 - accuracy: 0.6304\n",
            "Epoch 91/100\n",
            "2/2 [==============================] - 0s 7ms/step - loss: 0.6901 - accuracy: 0.6304\n",
            "Epoch 92/100\n",
            "2/2 [==============================] - 0s 6ms/step - loss: 0.6898 - accuracy: 0.6522\n",
            "Epoch 93/100\n",
            "2/2 [==============================] - 0s 7ms/step - loss: 0.6895 - accuracy: 0.6522\n",
            "Epoch 94/100\n",
            "2/2 [==============================] - 0s 7ms/step - loss: 0.6892 - accuracy: 0.6522\n",
            "Epoch 95/100\n",
            "2/2 [==============================] - 0s 7ms/step - loss: 0.6888 - accuracy: 0.6522\n",
            "Epoch 96/100\n",
            "2/2 [==============================] - 0s 7ms/step - loss: 0.6887 - accuracy: 0.6522\n",
            "Epoch 97/100\n",
            "2/2 [==============================] - 0s 7ms/step - loss: 0.6882 - accuracy: 0.6522\n",
            "Epoch 98/100\n",
            "2/2 [==============================] - 0s 7ms/step - loss: 0.6880 - accuracy: 0.6087\n",
            "Epoch 99/100\n",
            "2/2 [==============================] - 0s 7ms/step - loss: 0.6877 - accuracy: 0.6087\n",
            "Epoch 100/100\n",
            "2/2 [==============================] - 0s 13ms/step - loss: 0.6874 - accuracy: 0.6087\n",
            "2/2 [==============================] - 0s 7ms/step\n",
            "Final Binary Predictions: [0 0 0 0 0 0 0 0 0 0 0 0 1 0 0 0 0 1 0 0 0 1 0 0 0 0 0 1 0 0 1 0 0 0 0 0 0\n",
            " 0 1 0 0 0 0 0 0 0]\n"
          ]
        }
      ],
      "source": [
        "Y_true = Y_test.values  #convert to numpy array\n",
        "\n",
        "# Define a simple perceptron model\n",
        "model = Sequential()\n",
        "model.add(Dense(1, input_dim=3, activation='sigmoid'))  # 4 input features (2 from text, 2 from audio)\n",
        "\n",
        "# Compile the model\n",
        "model.compile(optimizer='adam', loss='binary_crossentropy', metrics=['accuracy'])\n",
        "\n",
        "# Train the model\n",
        "model.fit(combined_features, Y_true, epochs=100, verbose=1)\n",
        "\n",
        "# Make predictions using the combined features\n",
        "final_predictions = model.predict(combined_features)\n",
        "\n",
        "# Convert the final predictions to binary (0 or 1) based on a threshold (e.g., 0.5)\n",
        "final_binary_predictions = (final_predictions > 0.5).astype(int)\n",
        "\n",
        "print(\"Final Binary Predictions:\", final_binary_predictions.flatten())\n"
      ]
    },
    {
      "cell_type": "code",
      "source": [
        "from sklearn.metrics import accuracy_score,classification_report,  ConfusionMatrixDisplay, confusion_matrix\n",
        "import matplotlib.pyplot as plt\n",
        "import seaborn as sns\n"
      ],
      "metadata": {
        "id": "Im3AvyLkdOJ7"
      },
      "execution_count": 9,
      "outputs": []
    },
    {
      "cell_type": "code",
      "source": [
        "accuracy_score(Y_true, final_binary_predictions)"
      ],
      "metadata": {
        "colab": {
          "base_uri": "https://localhost:8080/"
        },
        "id": "KE-Td5t5cwM_",
        "outputId": "a9b85390-ec48-46e0-ba2b-6834011d2f95"
      },
      "execution_count": 10,
      "outputs": [
        {
          "output_type": "execute_result",
          "data": {
            "text/plain": [
              "0.6086956521739131"
            ]
          },
          "metadata": {},
          "execution_count": 10
        }
      ]
    },
    {
      "cell_type": "code",
      "source": [
        "print(classification_report(Y_true, final_binary_predictions))"
      ],
      "metadata": {
        "colab": {
          "base_uri": "https://localhost:8080/"
        },
        "id": "FEFA0hF9cxwQ",
        "outputId": "5d743472-41d4-4747-b79f-3b5ce6e4c09a"
      },
      "execution_count": 11,
      "outputs": [
        {
          "output_type": "stream",
          "name": "stdout",
          "text": [
            "              precision    recall  f1-score   support\n",
            "\n",
            "           0       0.68      0.84      0.75        32\n",
            "           1       0.17      0.07      0.10        14\n",
            "\n",
            "    accuracy                           0.61        46\n",
            "   macro avg       0.42      0.46      0.42        46\n",
            "weighted avg       0.52      0.61      0.55        46\n",
            "\n"
          ]
        }
      ]
    },
    {
      "cell_type": "code",
      "source": [
        "y_true_label = ['No Depression' , 'Depression']\n",
        "y_pred_label = ['No Depression' , 'Depression']\n",
        "cm = confusion_matrix(Y_true, final_binary_predictions)\n",
        "ax = sns.heatmap(cm, annot = True, cmap = 'seismic',xticklabels = y_pred_label, yticklabels = y_true_label, linewidth=.5, )\n",
        "ax.set(xlabel='Predict',ylabel='Actual')\n",
        "plt.title('Confusion Matrix')\n",
        "plt.show()"
      ],
      "metadata": {
        "colab": {
          "base_uri": "https://localhost:8080/",
          "height": 472
        },
        "id": "14uA7EBHczjo",
        "outputId": "88d8880c-04fc-41ec-9f88-ed33d135036d"
      },
      "execution_count": 12,
      "outputs": [
        {
          "output_type": "display_data",
          "data": {
            "text/plain": [
              "<Figure size 640x480 with 2 Axes>"
            ],
            "image/png": "[encoded data removed]"
          },
          "metadata": {}
        }
      ]
    }
  ]
}