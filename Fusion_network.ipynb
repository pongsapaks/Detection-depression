{
  "nbformat": 4,
  "nbformat_minor": 0,
  "metadata": {
    "colab": {
      "provenance": [],
      "authorship_tag": "ABX9TyObGESQW46KT0MMlSuJr/JZ",
      "include_colab_link": true
    },
    "kernelspec": {
      "name": "python3",
      "display_name": "Python 3"
    },
    "language_info": {
      "name": "python"
    }
  },
  "cells": [
    {
      "cell_type": "markdown",
      "metadata": {
        "id": "view-in-github",
        "colab_type": "text"
      },
      "source": [
        "<a href=\"https://colab.research.google.com/github/pongsapaks/Detection-depression/blob/main/Fusion_network.ipynb\" target=\"_parent\"><img src=\"https://colab.research.google.com/assets/colab-badge.svg\" alt=\"Open In Colab\"/></a>"
      ]
    },
    {
      "cell_type": "markdown",
      "source": [
        "#Fusion Model"
      ],
      "metadata": {
        "id": "I88Px3deDFG3"
      }
    },
    {
      "cell_type": "code",
      "source": [
        "from google.colab import drive\n",
        "drive.mount('/content/drive')"
      ],
      "metadata": {
        "id": "JdyyNiFWX6iN",
        "colab": {
          "base_uri": "https://localhost:8080/"
        },
        "outputId": "103a1d65-060b-452f-fe82-28504ed551d3"
      },
      "execution_count": 1,
      "outputs": [
        {
          "output_type": "stream",
          "name": "stdout",
          "text": [
            "Mounted at /content/drive\n"
          ]
        }
      ]
    },
    {
      "cell_type": "code",
      "source": [
        "!nvidia-smi -L"
      ],
      "metadata": {
        "id": "QEJOgQOlaic7",
        "colab": {
          "base_uri": "https://localhost:8080/"
        },
        "outputId": "b920768a-20bb-4638-9d6c-e0c7455abd8c"
      },
      "execution_count": 2,
      "outputs": [
        {
          "output_type": "stream",
          "name": "stdout",
          "text": [
            "/bin/bash: line 1: nvidia-smi: command not found\n"
          ]
        }
      ]
    },
    {
      "cell_type": "code",
      "source": [
        "import numpy as np\n",
        "import pandas as pd\n",
        "import tensorflow as tf\n",
        "from tensorflow.keras.models import Sequential\n",
        "from tensorflow.keras.layers import Dense"
      ],
      "metadata": {
        "id": "CGcyjw8iYZl2"
      },
      "execution_count": 3,
      "outputs": []
    },
    {
      "cell_type": "code",
      "source": [
        "import os\n",
        "import re\n",
        "import glob"
      ],
      "metadata": {
        "id": "E8F8aSmoJOjr"
      },
      "execution_count": 4,
      "outputs": []
    },
    {
      "cell_type": "code",
      "source": [
        "directory = \"/content/drive/MyDrive/Final_DLP/data/\""
      ],
      "metadata": {
        "id": "5vquG8TEJZUa"
      },
      "execution_count": 5,
      "outputs": []
    },
    {
      "cell_type": "code",
      "source": [
        "print( f\"TensorFlow {tf.__version__}\" )\n",
        "print( f\"tf.keras.backend.image_data_format() = {tf.keras.backend.image_data_format()}\" )\n",
        "\n",
        "# Count the number of GPUs as detected by tensorflow\n",
        "gpus = tf.config.list_physical_devices('GPU')\n",
        "print( f\"TensorFlow detected { len(gpus) } GPU(s):\" )\n",
        "for i, gpu in enumerate(gpus):\n",
        "  print( f\".... GPU No. {i}: Name = {gpu.name} , Type = {gpu.device_type}\" )"
      ],
      "metadata": {
        "colab": {
          "base_uri": "https://localhost:8080/"
        },
        "id": "EjKXjf1uaslA",
        "outputId": "05570cc5-7aff-4852-8b66-6c96bda8a902"
      },
      "execution_count": 6,
      "outputs": [
        {
          "output_type": "stream",
          "name": "stdout",
          "text": [
            "TensorFlow 2.15.0\n",
            "tf.keras.backend.image_data_format() = channels_last\n",
            "TensorFlow detected 0 GPU(s):\n"
          ]
        }
      ]
    },
    {
      "cell_type": "code",
      "source": [
        "#Read prediction result from Text and Audio model and Y true\n",
        "\n",
        "text_prediction = pd.read_csv(\"/content/drive/MyDrive/Final_DLP/Text_pred_1.csv\")\n",
        "\n",
        "audio_prediction = pd.read_csv(\"/content/drive/MyDrive/Final_DLP/Audio_Pred.csv\",index_col = 0)\n",
        "\n",
        "Y_test = pd.read_csv(\"/content/drive/MyDrive/Final_DLP/y_true.csv\")"
      ],
      "metadata": {
        "id": "Rs1UkiPiYqpC"
      },
      "execution_count": 7,
      "outputs": []
    },
    {
      "cell_type": "code",
      "source": [
        "# CombProduct method\n",
        "\n",
        "text_model_pred = text_prediction.values  #convert to numpy array\n",
        "audio_model_pred = audio_prediction.values  #convert to numpy array\n",
        "\n",
        "combined_softmax_pred = text_model_pred * audio_model_pred  # Element-wise product of softmax predictions\n",
        "combined_softmax_pred"
      ],
      "metadata": {
        "colab": {
          "base_uri": "https://localhost:8080/"
        },
        "id": "LIdiG8-yclRh",
        "outputId": "cb96f695-cd75-4f84-c3b3-9b18b6342d4b"
      },
      "execution_count": 8,
      "outputs": [
        {
          "output_type": "execute_result",
          "data": {
            "text/plain": [
              "array([[9.41519900e-01, 1.19006618e-21],\n",
              "       [8.62050700e-01, 3.36130992e-21],\n",
              "       [6.38678850e-01, 6.55743075e-21],\n",
              "       [9.71949600e-01, 5.07344251e-22],\n",
              "       [7.48685100e-01, 5.52015993e-21],\n",
              "       [1.01750170e-01, 2.19959788e-20],\n",
              "       [8.20386050e-01, 3.42908429e-21],\n",
              "       [6.28416240e-01, 8.08996342e-21],\n",
              "       [8.04843200e-01, 3.83350073e-21],\n",
              "       [6.64981800e-01, 7.29446055e-21],\n",
              "       [8.45212800e-01, 3.18908146e-21],\n",
              "       [8.78749250e-01, 2.62929679e-21],\n",
              "       [8.82705100e-01, 2.19429549e-21],\n",
              "       [7.89128360e-01, 3.92608851e-21],\n",
              "       [5.90634050e-01, 8.60242325e-21],\n",
              "       [5.74205160e-01, 9.86787786e-21],\n",
              "       [8.00979440e-01, 4.85431183e-21],\n",
              "       [8.66998430e-01, 2.66882153e-21],\n",
              "       [9.31361100e-01, 1.55467109e-21],\n",
              "       [7.42258200e-01, 5.87469120e-21],\n",
              "       [8.88815050e-01, 2.00160930e-21],\n",
              "       [7.09147330e-01, 5.20568637e-21],\n",
              "       [9.01843100e-01, 3.68760244e-21],\n",
              "       [6.15613900e-01, 7.30103072e-21],\n",
              "       [9.76138350e-01, 4.60816359e-22],\n",
              "       [5.92242600e-01, 1.12340593e-20],\n",
              "       [7.58261740e-01, 5.48195489e-21],\n",
              "       [8.83084830e-01, 2.54210955e-21],\n",
              "       [8.01946340e-01, 3.78681095e-21],\n",
              "       [9.73509970e-01, 6.18911141e-22],\n",
              "       [5.85616950e-01, 7.76370859e-21],\n",
              "       [3.51263170e-01, 1.66941147e-20],\n",
              "       [8.52438330e-01, 2.75743922e-21],\n",
              "       [5.65154250e-01, 8.52131922e-21],\n",
              "       [8.32768700e-01, 3.09506705e-21],\n",
              "       [6.09497550e-01, 9.57933320e-21],\n",
              "       [7.09798040e-01, 6.03711151e-21],\n",
              "       [9.34000430e-01, 1.32915268e-21],\n",
              "       [5.20244100e-01, 9.15575851e-21],\n",
              "       [9.19697400e-01, 2.17343920e-21],\n",
              "       [9.41609740e-01, 1.06774956e-21],\n",
              "       [6.53787600e-01, 7.72765094e-21],\n",
              "       [2.43265440e-01, 1.46028847e-20],\n",
              "       [2.67794850e-01, 1.35770992e-20],\n",
              "       [8.00087750e-01, 4.39144811e-21],\n",
              "       [9.78736900e-01, 4.36526915e-22]])"
            ]
          },
          "metadata": {},
          "execution_count": 8
        }
      ]
    },
    {
      "cell_type": "code",
      "source": [
        "argmax_txt = [np.argmax(x) for x in text_model_pred]\n",
        "print(f'Text model prediction {argmax_txt}')"
      ],
      "metadata": {
        "colab": {
          "base_uri": "https://localhost:8080/"
        },
        "id": "Tv8vzuICer05",
        "outputId": "cf915a7f-0188-4143-9ee8-b073d202969d"
      },
      "execution_count": 11,
      "outputs": [
        {
          "output_type": "stream",
          "name": "stdout",
          "text": [
            "Text model prediction [0, 0, 0, 0, 0, 1, 0, 0, 0, 0, 0, 0, 0, 0, 0, 0, 0, 0, 0, 0, 0, 0, 0, 0, 0, 0, 0, 0, 0, 0, 0, 1, 0, 0, 0, 0, 0, 0, 0, 0, 0, 0, 1, 1, 0, 0]\n"
          ]
        }
      ]
    },
    {
      "cell_type": "code",
      "source": [
        "argmax_audio= [np.argmax(x) for x in audio_model_pred]\n",
        "print(f'Audio model prediction: {argmax_audio}')"
      ],
      "metadata": {
        "colab": {
          "base_uri": "https://localhost:8080/"
        },
        "outputId": "dda0e24d-8fe6-4252-d51b-d043e91871c2",
        "id": "OrCzxoB3XqQ4"
      },
      "execution_count": 12,
      "outputs": [
        {
          "output_type": "stream",
          "name": "stdout",
          "text": [
            "Audio model prediction: [0, 0, 0, 0, 0, 0, 0, 0, 0, 0, 0, 0, 0, 0, 0, 0, 0, 0, 0, 0, 0, 0, 0, 0, 0, 0, 0, 0, 0, 0, 0, 0, 0, 0, 0, 0, 0, 0, 0, 0, 0, 0, 0, 0, 0, 0]\n"
          ]
        }
      ]
    },
    {
      "cell_type": "code",
      "source": [
        "#Argmax of CombProduct\n",
        "\n",
        "argmax_prd = [np.argmax(x) for x in combined_softmax_pred]\n",
        "#final_prediction = np.argmax(combined_softmax_pred)  # Select the class with the highest combined probability\n",
        "\n",
        "#print(\"Combined Softmax Predictions:\", combined_softmax_pred)\n",
        "print(\"Final Prediction:\", argmax_prd)"
      ],
      "metadata": {
        "id": "H7bVCdTZ663I",
        "colab": {
          "base_uri": "https://localhost:8080/"
        },
        "outputId": "246b79bf-7bec-4330-b534-dd4cd2ead0fa"
      },
      "execution_count": 13,
      "outputs": [
        {
          "output_type": "stream",
          "name": "stdout",
          "text": [
            "Final Prediction: [0, 0, 0, 0, 0, 0, 0, 0, 0, 0, 0, 0, 0, 0, 0, 0, 0, 0, 0, 0, 0, 0, 0, 0, 0, 0, 0, 0, 0, 0, 0, 0, 0, 0, 0, 0, 0, 0, 0, 0, 0, 0, 0, 0, 0, 0]\n"
          ]
        }
      ]
    },
    {
      "cell_type": "code",
      "source": [
        "Y_true = Y_test.values  #convert to numpy array\n",
        "Y_true.size"
      ],
      "metadata": {
        "colab": {
          "base_uri": "https://localhost:8080/"
        },
        "id": "bm19kETD6YI_",
        "outputId": "c794bb26-b9a8-4d51-b60d-f859e7023f69"
      },
      "execution_count": 14,
      "outputs": [
        {
          "output_type": "execute_result",
          "data": {
            "text/plain": [
              "46"
            ]
          },
          "metadata": {},
          "execution_count": 14
        }
      ]
    },
    {
      "cell_type": "markdown",
      "source": [
        "#Evaluation"
      ],
      "metadata": {
        "id": "l80_CSwKDszu"
      }
    },
    {
      "cell_type": "code",
      "source": [
        "from sklearn.metrics import accuracy_score,classification_report,  ConfusionMatrixDisplay, confusion_matrix\n",
        "import matplotlib.pyplot as plt\n",
        "import seaborn as sns\n"
      ],
      "metadata": {
        "id": "Im3AvyLkdOJ7"
      },
      "execution_count": null,
      "outputs": []
    },
    {
      "cell_type": "code",
      "source": [
        "accuracy_score(Y_true, argmax_prd)"
      ],
      "metadata": {
        "colab": {
          "base_uri": "https://localhost:8080/"
        },
        "id": "KE-Td5t5cwM_",
        "outputId": "469b90be-00a6-48b2-946b-29c36cc70930"
      },
      "execution_count": null,
      "outputs": [
        {
          "output_type": "execute_result",
          "data": {
            "text/plain": [
              "0.6956521739130435"
            ]
          },
          "metadata": {},
          "execution_count": 79
        }
      ]
    },
    {
      "cell_type": "code",
      "source": [
        "print(classification_report(Y_true, argmax_prd))"
      ],
      "metadata": {
        "colab": {
          "base_uri": "https://localhost:8080/"
        },
        "id": "FEFA0hF9cxwQ",
        "outputId": "a281dc4b-86d0-4130-9d40-2438452e8e23"
      },
      "execution_count": null,
      "outputs": [
        {
          "output_type": "stream",
          "name": "stdout",
          "text": [
            "              precision    recall  f1-score   support\n",
            "\n",
            "           0       0.70      1.00      0.82        32\n",
            "           1       0.00      0.00      0.00        14\n",
            "\n",
            "    accuracy                           0.70        46\n",
            "   macro avg       0.35      0.50      0.41        46\n",
            "weighted avg       0.48      0.70      0.57        46\n",
            "\n"
          ]
        },
        {
          "output_type": "stream",
          "name": "stderr",
          "text": [
            "/usr/local/lib/python3.10/dist-packages/sklearn/metrics/_classification.py:1344: UndefinedMetricWarning: Precision and F-score are ill-defined and being set to 0.0 in labels with no predicted samples. Use `zero_division` parameter to control this behavior.\n",
            "  _warn_prf(average, modifier, msg_start, len(result))\n",
            "/usr/local/lib/python3.10/dist-packages/sklearn/metrics/_classification.py:1344: UndefinedMetricWarning: Precision and F-score are ill-defined and being set to 0.0 in labels with no predicted samples. Use `zero_division` parameter to control this behavior.\n",
            "  _warn_prf(average, modifier, msg_start, len(result))\n",
            "/usr/local/lib/python3.10/dist-packages/sklearn/metrics/_classification.py:1344: UndefinedMetricWarning: Precision and F-score are ill-defined and being set to 0.0 in labels with no predicted samples. Use `zero_division` parameter to control this behavior.\n",
            "  _warn_prf(average, modifier, msg_start, len(result))\n"
          ]
        }
      ]
    },
    {
      "cell_type": "code",
      "source": [
        "y_true_label = ['No Depression' , 'Depression']\n",
        "y_pred_label = ['No Depression' , 'Depression']\n",
        "cm = confusion_matrix(Y_true, argmax_prd)\n",
        "ax = sns.heatmap(cm, annot = True, cmap = 'seismic',xticklabels = y_pred_label, yticklabels = y_true_label, linewidth=.5, )\n",
        "ax.set(xlabel='Predict',ylabel='Actual')\n",
        "plt.title('Confusion Matrix of fusion')\n",
        "plt.show()"
      ],
      "metadata": {
        "colab": {
          "base_uri": "https://localhost:8080/",
          "height": 472
        },
        "id": "14uA7EBHczjo",
        "outputId": "b2768589-e865-48e1-81f2-f967b984626b"
      },
      "execution_count": null,
      "outputs": [
        {
          "output_type": "display_data",
          "data": {
            "text/plain": [
              "<Figure size 640x480 with 2 Axes>"
            ],
            "image/png": "[encoded data removed]"
          },
          "metadata": {}
        }
      ]
    },
    {
      "cell_type": "code",
      "source": [
        "y_true_label = ['No Depression' , 'Depression']\n",
        "y_pred_label = ['No Depression' , 'Depression']\n",
        "cm = confusion_matrix(Y_true, argmax_txt)\n",
        "ax = sns.heatmap(cm, annot = True, cmap = 'seismic',xticklabels = y_pred_label, yticklabels = y_true_label, linewidth=.5, )\n",
        "ax.set(xlabel='Predict',ylabel='Actual')\n",
        "plt.title('Confusion Matrix of Text model')\n",
        "plt.show()"
      ],
      "metadata": {
        "colab": {
          "base_uri": "https://localhost:8080/",
          "height": 472
        },
        "outputId": "1d6e9fd5-48ed-4295-ccaf-92491ca90544",
        "id": "GdAzR_o0e2bc"
      },
      "execution_count": null,
      "outputs": [
        {
          "output_type": "display_data",
          "data": {
            "text/plain": [
              "<Figure size 640x480 with 2 Axes>"
            ],
            "image/png": "[encoded data removed]"
          },
          "metadata": {}
        }
      ]
    },
    {
      "cell_type": "code",
      "source": [
        "y_true_label = ['No Depression' , 'Depression']\n",
        "y_pred_label = ['No Depression' , 'Depression']\n",
        "cm = confusion_matrix(Y_true, argmax_audio)\n",
        "ax = sns.heatmap(cm, annot = True, cmap = 'seismic',xticklabels = y_pred_label, yticklabels = y_true_label, linewidth=.5, )\n",
        "ax.set(xlabel='Predict',ylabel='Actual')\n",
        "plt.title('Confusion Matrix of Audio model')\n",
        "plt.show()"
      ],
      "metadata": {
        "colab": {
          "base_uri": "https://localhost:8080/",
          "height": 472
        },
        "outputId": "7006c448-402a-41ff-ebee-799baefc87c9",
        "id": "XF2kkTYVhXVo"
      },
      "execution_count": null,
      "outputs": [
        {
          "output_type": "display_data",
          "data": {
            "text/plain": [
              "<Figure size 640x480 with 2 Axes>"
            ],
            "image/png": "[encoded data removed]"
          },
          "metadata": {}
        }
      ]
    }
  ]
}